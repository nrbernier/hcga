{
 "cells": [
  {
   "cell_type": "markdown",
   "metadata": {},
   "source": [
    "# Create synthetic list of graphs for testing"
   ]
  },
  {
   "cell_type": "code",
   "execution_count": 91,
   "metadata": {},
   "outputs": [
    {
     "name": "stdout",
     "output_type": "stream",
     "text": [
      "The autoreload extension is already loaded. To reload it, use:\n",
      "  %reload_ext autoreload\n"
     ]
    }
   ],
   "source": [
    "%load_ext autoreload"
   ]
  },
  {
   "cell_type": "code",
   "execution_count": 112,
   "metadata": {},
   "outputs": [],
   "source": [
    "%autoreload 0"
   ]
  },
  {
   "cell_type": "code",
   "execution_count": 32,
   "metadata": {},
   "outputs": [],
   "source": [
    "import networkx as nx\n",
    "import pandas as pd"
   ]
  },
  {
   "cell_type": "code",
   "execution_count": 2,
   "metadata": {},
   "outputs": [],
   "source": [
    "import tqdm"
   ]
  },
  {
   "cell_type": "code",
   "execution_count": 3,
   "metadata": {},
   "outputs": [],
   "source": [
    "Graphs = []"
   ]
  },
  {
   "cell_type": "code",
   "execution_count": 5,
   "metadata": {},
   "outputs": [],
   "source": [
    "import random\n",
    "import numpy as np\n",
    "\n",
    "def synthetic_data_sbm(N=1000, seed=None):\n",
    "    if seed:\n",
    "        random.seed(seed)\n",
    "        np.random.seed(seed)\n",
    "        \n",
    "    graphs = []\n",
    "    graph_labels = [] \n",
    "    prob_in = 0.9\n",
    "    prob_out = 0.25\n",
    "    \n",
    "    for i in range(int(N/2)):\n",
    "        G = nx.stochastic_block_model(\n",
    "            [random.randint(2,3),random.randint(2,3),random.randint(2,3)],\n",
    "            [[prob_in,prob_out,prob_out],[prob_out,prob_in,prob_out],[prob_out,prob_out,prob_in]])\n",
    "        \n",
    "        for u,v in G.edges: \n",
    "            if len(G[u][v]) == 0:\n",
    "                G[u][v]['weight'] = 1.\n",
    "        graphs.append(G)\n",
    "        graph_labels.append(1)\n",
    "    \n",
    "    for i in range(int(N/2)):\n",
    "        G = nx.stochastic_block_model(\n",
    "            [random.randint(2,3),random.randint(2,3)],\n",
    "            [[prob_in, prob_out],[prob_out, prob_in]])\n",
    "        for u,v in G.edges: \n",
    "            if len(G[u][v]) == 0:\n",
    "                G[u][v]['weight'] = 1.\n",
    "        graphs.append(G)\n",
    "        graph_labels.append(2)\n",
    "    \n",
    "    return graphs, np.asarray(graph_labels)"
   ]
  },
  {
   "cell_type": "code",
   "execution_count": 47,
   "metadata": {},
   "outputs": [],
   "source": [
    "rgraphs, rlabels = synthetic_data_sbm(N=4, seed=42)"
   ]
  },
  {
   "cell_type": "code",
   "execution_count": 42,
   "metadata": {},
   "outputs": [
    {
     "data": {
      "text/plain": [
       "True"
      ]
     },
     "execution_count": 42,
     "metadata": {},
     "output_type": "execute_result"
    }
   ],
   "source": [
    "nx.is_connected(rgraphs[3])\n"
   ]
  },
  {
   "cell_type": "code",
   "execution_count": 22,
   "metadata": {},
   "outputs": [],
   "source": [
    "import hcga.graphs as hcga_graphs"
   ]
  },
  {
   "cell_type": "code",
   "execution_count": 48,
   "metadata": {},
   "outputs": [
    {
     "ename": "TypeError",
     "evalue": "reload() argument must be a module",
     "output_type": "error",
     "traceback": [
      "\u001b[0;31m---------------------------------------------------------------------------\u001b[0m",
      "\u001b[0;31mTypeError\u001b[0m                                 Traceback (most recent call last)",
      "\u001b[0;32m<ipython-input-48-62c10a6b4264>\u001b[0m in \u001b[0;36m<module>\u001b[0;34m\u001b[0m\n\u001b[1;32m      2\u001b[0m \u001b[0;34m\u001b[0m\u001b[0m\n\u001b[1;32m      3\u001b[0m \u001b[0mimportlib\u001b[0m\u001b[0;34m.\u001b[0m\u001b[0mreload\u001b[0m\u001b[0;34m(\u001b[0m\u001b[0mhcga_graphs\u001b[0m\u001b[0;34m)\u001b[0m\u001b[0;34m\u001b[0m\u001b[0;34m\u001b[0m\u001b[0m\n\u001b[0;32m----> 4\u001b[0;31m \u001b[0mimportlib\u001b[0m\u001b[0;34m.\u001b[0m\u001b[0mreload\u001b[0m\u001b[0;34m(\u001b[0m\u001b[0mhcga_graphs\u001b[0m\u001b[0;34m.\u001b[0m\u001b[0mOperations\u001b[0m\u001b[0;34m)\u001b[0m\u001b[0;34m\u001b[0m\u001b[0;34m\u001b[0m\u001b[0m\n\u001b[0m",
      "\u001b[0;32m/usr/local/Cellar/python/3.7.5/Frameworks/Python.framework/Versions/3.7/lib/python3.7/importlib/__init__.py\u001b[0m in \u001b[0;36mreload\u001b[0;34m(module)\u001b[0m\n\u001b[1;32m    138\u001b[0m     \"\"\"\n\u001b[1;32m    139\u001b[0m     \u001b[0;32mif\u001b[0m \u001b[0;32mnot\u001b[0m \u001b[0mmodule\u001b[0m \u001b[0;32mor\u001b[0m \u001b[0;32mnot\u001b[0m \u001b[0misinstance\u001b[0m\u001b[0;34m(\u001b[0m\u001b[0mmodule\u001b[0m\u001b[0;34m,\u001b[0m \u001b[0mtypes\u001b[0m\u001b[0;34m.\u001b[0m\u001b[0mModuleType\u001b[0m\u001b[0;34m)\u001b[0m\u001b[0;34m:\u001b[0m\u001b[0;34m\u001b[0m\u001b[0;34m\u001b[0m\u001b[0m\n\u001b[0;32m--> 140\u001b[0;31m         \u001b[0;32mraise\u001b[0m \u001b[0mTypeError\u001b[0m\u001b[0;34m(\u001b[0m\u001b[0;34m\"reload() argument must be a module\"\u001b[0m\u001b[0;34m)\u001b[0m\u001b[0;34m\u001b[0m\u001b[0;34m\u001b[0m\u001b[0m\n\u001b[0m\u001b[1;32m    141\u001b[0m     \u001b[0;32mtry\u001b[0m\u001b[0;34m:\u001b[0m\u001b[0;34m\u001b[0m\u001b[0;34m\u001b[0m\u001b[0m\n\u001b[1;32m    142\u001b[0m         \u001b[0mname\u001b[0m \u001b[0;34m=\u001b[0m \u001b[0mmodule\u001b[0m\u001b[0;34m.\u001b[0m\u001b[0m__spec__\u001b[0m\u001b[0;34m.\u001b[0m\u001b[0mname\u001b[0m\u001b[0;34m\u001b[0m\u001b[0;34m\u001b[0m\u001b[0m\n",
      "\u001b[0;31mTypeError\u001b[0m: reload() argument must be a module"
     ]
    }
   ],
   "source": [
    "import importlib\n",
    "\n",
    "importlib.reload(hcga_graphs)\n",
    "importlib.reload(hcga_graphs.Operations)"
   ]
  },
  {
   "cell_type": "code",
   "execution_count": 49,
   "metadata": {},
   "outputs": [],
   "source": [
    "g = hcga_graphs.Graphs(graphs=rgraphs, graph_class=rlabels)\n",
    "g.n_processes = 4"
   ]
  },
  {
   "cell_type": "code",
   "execution_count": 50,
   "metadata": {},
   "outputs": [
    {
     "name": "stderr",
     "output_type": "stream",
     "text": [
      "\n",
      "\n",
      "100%|██████████| 4/4 [00:00<00:00, 74.37it/s]"
     ]
    },
    {
     "name": "stdout",
     "output_type": "stream",
     "text": [
      "Computation time for feature: Components is 0.0 seconds.\n",
      "Computation time for feature: NodeLabels is 0.0 seconds.\n",
      "Computation time for feature: NodeFeaturesConv is 0.0 seconds.\n",
      "Computation time for feature: DominatingSets is 0.0 seconds.\n",
      "Computation time for feature: IndependentSets is 0.0 seconds.\n",
      "Computation time for feature: ScaleFree is 0.0 seconds.\n",
      "Computation time for feature: Cycles is 0.0 seconds.\n",
      "Computation time for feature: Cliques is 0.0 seconds.\n",
      "Computation time for feature: ChemicalTheory is 0.0 seconds.\n",
      "Computation time for feature: MaximalMatching is 0.001 seconds.\n",
      "Computation time for feature: Diameter is 0.001 seconds.\n",
      "Computation time for feature: SpectrumModularity is 0.002 seconds.\n",
      "Computation time for feature: ShortestPaths is 0.002 seconds.\n",
      "Computation time for feature: SpectrumAdjacency is 0.002 seconds.\n",
      "Computation time for feature: Assortativity is 0.002 seconds.\n",
      "Computation time for feature: MinimumCuts is 0.004 seconds.\n",
      "Computation time for feature: EdgeFeaturesBasic is 0.023 seconds.\n",
      "Number of raw features:  495\n",
      "Number of features without nans/infs:  474\n",
      "Final number of features extracted: 271\n"
     ]
    },
    {
     "name": "stderr",
     "output_type": "stream",
     "text": [
      "\n"
     ]
    }
   ],
   "source": [
    "g.calculate_features(calc_speed='veryfast', parallel = True)"
   ]
  },
  {
   "cell_type": "code",
   "execution_count": 51,
   "metadata": {},
   "outputs": [
    {
     "data": {
      "text/html": [
       "<div>\n",
       "<style scoped>\n",
       "    .dataframe tbody tr th:only-of-type {\n",
       "        vertical-align: middle;\n",
       "    }\n",
       "\n",
       "    .dataframe tbody tr th {\n",
       "        vertical-align: top;\n",
       "    }\n",
       "\n",
       "    .dataframe thead th {\n",
       "        text-align: right;\n",
       "    }\n",
       "</style>\n",
       "<table border=\"1\" class=\"dataframe\">\n",
       "  <thead>\n",
       "    <tr style=\"text-align: right;\">\n",
       "      <th></th>\n",
       "      <th>CComp_is_connected</th>\n",
       "      <th>SF_s_metric</th>\n",
       "      <th>SP_path_length_mean</th>\n",
       "      <th>SP_path_length_mean_max</th>\n",
       "      <th>SP_path_length_max</th>\n",
       "      <th>CY_num_cycles</th>\n",
       "      <th>CY_mean_cycle_length</th>\n",
       "      <th>CY_longest_cycle</th>\n",
       "      <th>Cl_number_of_cliques</th>\n",
       "      <th>DI_diameter</th>\n",
       "      <th>...</th>\n",
       "      <th>SM_M_eigvals_ratio_5_2_E</th>\n",
       "      <th>SM_M_eigvals_ratio_5_3_E</th>\n",
       "      <th>SM_M_eigvals_ratio_5_4_E</th>\n",
       "      <th>SM_M_eigvals_ratio_6_0_E</th>\n",
       "      <th>SM_M_eigvals_ratio_6_1_E</th>\n",
       "      <th>SM_M_eigvals_ratio_6_2_E</th>\n",
       "      <th>SM_M_eigvals_ratio_6_3_E</th>\n",
       "      <th>SM_M_eigvals_ratio_6_4_E</th>\n",
       "      <th>SM_M_eigvals_ratio_6_5_E</th>\n",
       "      <th>SM_M_eigvals_min_E</th>\n",
       "    </tr>\n",
       "  </thead>\n",
       "  <tbody>\n",
       "    <tr>\n",
       "      <th>0</th>\n",
       "      <td>1.0</td>\n",
       "      <td>54.0</td>\n",
       "      <td>2.714286</td>\n",
       "      <td>4.285714</td>\n",
       "      <td>5.0</td>\n",
       "      <td>2.0</td>\n",
       "      <td>3.000000</td>\n",
       "      <td>3.0</td>\n",
       "      <td>4.0</td>\n",
       "      <td>4.0</td>\n",
       "      <td>...</td>\n",
       "      <td>0.000000</td>\n",
       "      <td>0.069611</td>\n",
       "      <td>0.086098</td>\n",
       "      <td>-5.168620e-02</td>\n",
       "      <td>-9.708023e-02</td>\n",
       "      <td>0.000000e+00</td>\n",
       "      <td>4.173864e-02</td>\n",
       "      <td>5.162365e-02</td>\n",
       "      <td>7.494939e-02</td>\n",
       "      <td>-0.224460</td>\n",
       "    </tr>\n",
       "    <tr>\n",
       "      <th>1</th>\n",
       "      <td>0.0</td>\n",
       "      <td>72.0</td>\n",
       "      <td>2.469388</td>\n",
       "      <td>3.571429</td>\n",
       "      <td>4.0</td>\n",
       "      <td>3.0</td>\n",
       "      <td>3.333333</td>\n",
       "      <td>4.0</td>\n",
       "      <td>5.0</td>\n",
       "      <td>3.0</td>\n",
       "      <td>...</td>\n",
       "      <td>0.028069</td>\n",
       "      <td>-0.084565</td>\n",
       "      <td>0.050265</td>\n",
       "      <td>1.527573e-17</td>\n",
       "      <td>-1.057537e-17</td>\n",
       "      <td>-1.533066e-17</td>\n",
       "      <td>4.618694e-17</td>\n",
       "      <td>-2.745327e-17</td>\n",
       "      <td>-6.068584e-17</td>\n",
       "      <td>-0.241702</td>\n",
       "    </tr>\n",
       "    <tr>\n",
       "      <th>2</th>\n",
       "      <td>1.0</td>\n",
       "      <td>41.0</td>\n",
       "      <td>2.500000</td>\n",
       "      <td>3.666667</td>\n",
       "      <td>4.0</td>\n",
       "      <td>2.0</td>\n",
       "      <td>3.000000</td>\n",
       "      <td>3.0</td>\n",
       "      <td>3.0</td>\n",
       "      <td>3.0</td>\n",
       "      <td>...</td>\n",
       "      <td>0.000000</td>\n",
       "      <td>0.333333</td>\n",
       "      <td>0.142857</td>\n",
       "      <td>0.000000e+00</td>\n",
       "      <td>-0.000000e+00</td>\n",
       "      <td>0.000000e+00</td>\n",
       "      <td>-0.000000e+00</td>\n",
       "      <td>-0.000000e+00</td>\n",
       "      <td>-0.000000e+00</td>\n",
       "      <td>-0.247436</td>\n",
       "    </tr>\n",
       "    <tr>\n",
       "      <th>3</th>\n",
       "      <td>1.0</td>\n",
       "      <td>42.0</td>\n",
       "      <td>2.200000</td>\n",
       "      <td>3.400000</td>\n",
       "      <td>4.0</td>\n",
       "      <td>2.0</td>\n",
       "      <td>3.000000</td>\n",
       "      <td>3.0</td>\n",
       "      <td>3.0</td>\n",
       "      <td>3.0</td>\n",
       "      <td>...</td>\n",
       "      <td>0.000000</td>\n",
       "      <td>-0.000000</td>\n",
       "      <td>-0.000000</td>\n",
       "      <td>0.000000e+00</td>\n",
       "      <td>-0.000000e+00</td>\n",
       "      <td>0.000000e+00</td>\n",
       "      <td>-0.000000e+00</td>\n",
       "      <td>-0.000000e+00</td>\n",
       "      <td>0.000000e+00</td>\n",
       "      <td>-0.296336</td>\n",
       "    </tr>\n",
       "  </tbody>\n",
       "</table>\n",
       "<p>4 rows × 271 columns</p>\n",
       "</div>"
      ],
      "text/plain": [
       "   CComp_is_connected  SF_s_metric  SP_path_length_mean  \\\n",
       "0                 1.0         54.0             2.714286   \n",
       "1                 0.0         72.0             2.469388   \n",
       "2                 1.0         41.0             2.500000   \n",
       "3                 1.0         42.0             2.200000   \n",
       "\n",
       "   SP_path_length_mean_max  SP_path_length_max  CY_num_cycles  \\\n",
       "0                 4.285714                 5.0            2.0   \n",
       "1                 3.571429                 4.0            3.0   \n",
       "2                 3.666667                 4.0            2.0   \n",
       "3                 3.400000                 4.0            2.0   \n",
       "\n",
       "   CY_mean_cycle_length  CY_longest_cycle  Cl_number_of_cliques  DI_diameter  \\\n",
       "0              3.000000               3.0                   4.0          4.0   \n",
       "1              3.333333               4.0                   5.0          3.0   \n",
       "2              3.000000               3.0                   3.0          3.0   \n",
       "3              3.000000               3.0                   3.0          3.0   \n",
       "\n",
       "   ...  SM_M_eigvals_ratio_5_2_E  SM_M_eigvals_ratio_5_3_E  \\\n",
       "0  ...                  0.000000                  0.069611   \n",
       "1  ...                  0.028069                 -0.084565   \n",
       "2  ...                  0.000000                  0.333333   \n",
       "3  ...                  0.000000                 -0.000000   \n",
       "\n",
       "   SM_M_eigvals_ratio_5_4_E  SM_M_eigvals_ratio_6_0_E  \\\n",
       "0                  0.086098             -5.168620e-02   \n",
       "1                  0.050265              1.527573e-17   \n",
       "2                  0.142857              0.000000e+00   \n",
       "3                 -0.000000              0.000000e+00   \n",
       "\n",
       "   SM_M_eigvals_ratio_6_1_E  SM_M_eigvals_ratio_6_2_E  \\\n",
       "0             -9.708023e-02              0.000000e+00   \n",
       "1             -1.057537e-17             -1.533066e-17   \n",
       "2             -0.000000e+00              0.000000e+00   \n",
       "3             -0.000000e+00              0.000000e+00   \n",
       "\n",
       "   SM_M_eigvals_ratio_6_3_E  SM_M_eigvals_ratio_6_4_E  \\\n",
       "0              4.173864e-02              5.162365e-02   \n",
       "1              4.618694e-17             -2.745327e-17   \n",
       "2             -0.000000e+00             -0.000000e+00   \n",
       "3             -0.000000e+00             -0.000000e+00   \n",
       "\n",
       "   SM_M_eigvals_ratio_6_5_E  SM_M_eigvals_min_E  \n",
       "0              7.494939e-02           -0.224460  \n",
       "1             -6.068584e-17           -0.241702  \n",
       "2             -0.000000e+00           -0.247436  \n",
       "3              0.000000e+00           -0.296336  \n",
       "\n",
       "[4 rows x 271 columns]"
      ]
     },
     "execution_count": 51,
     "metadata": {},
     "output_type": "execute_result"
    }
   ],
   "source": [
    "g.graph_feature_matrix"
   ]
  },
  {
   "cell_type": "code",
   "execution_count": 29,
   "metadata": {},
   "outputs": [
    {
     "ename": "TypeError",
     "evalue": "'DataFrame' objects are mutable, thus they cannot be hashed",
     "output_type": "error",
     "traceback": [
      "\u001b[0;31m---------------------------------------------------------------------------\u001b[0m",
      "\u001b[0;31mTypeError\u001b[0m                                 Traceback (most recent call last)",
      "\u001b[0;32m<ipython-input-29-620e393bc913>\u001b[0m in \u001b[0;36m<module>\u001b[0;34m\u001b[0m\n\u001b[0;32m----> 1\u001b[0;31m \u001b[0mhash\u001b[0m\u001b[0;34m(\u001b[0m\u001b[0mg\u001b[0m\u001b[0;34m.\u001b[0m\u001b[0mgraph_feature_matrix\u001b[0m\u001b[0;34m)\u001b[0m\u001b[0;34m\u001b[0m\u001b[0;34m\u001b[0m\u001b[0m\n\u001b[0m",
      "\u001b[0;32m~/Documents/Data_science_home/git_ds/hcga-fork/examples/hcga-fork-env/lib/python3.7/site-packages/pandas/core/generic.py\u001b[0m in \u001b[0;36m__hash__\u001b[0;34m(self)\u001b[0m\n\u001b[1;32m   1797\u001b[0m     \u001b[0;32mdef\u001b[0m \u001b[0m__hash__\u001b[0m\u001b[0;34m(\u001b[0m\u001b[0mself\u001b[0m\u001b[0;34m)\u001b[0m\u001b[0;34m:\u001b[0m\u001b[0;34m\u001b[0m\u001b[0;34m\u001b[0m\u001b[0m\n\u001b[1;32m   1798\u001b[0m         raise TypeError(\n\u001b[0;32m-> 1799\u001b[0;31m             \u001b[0;34mf\"{repr(type(self).__name__)} objects are mutable, \"\u001b[0m\u001b[0;34m\u001b[0m\u001b[0;34m\u001b[0m\u001b[0m\n\u001b[0m\u001b[1;32m   1800\u001b[0m             \u001b[0;34mf\"thus they cannot be hashed\"\u001b[0m\u001b[0;34m\u001b[0m\u001b[0;34m\u001b[0m\u001b[0m\n\u001b[1;32m   1801\u001b[0m         )\n",
      "\u001b[0;31mTypeError\u001b[0m: 'DataFrame' objects are mutable, thus they cannot be hashed"
     ]
    }
   ],
   "source": [
    "hash(g.graph_feature_matrix)"
   ]
  },
  {
   "cell_type": "code",
   "execution_count": 30,
   "metadata": {},
   "outputs": [],
   "source": [
    "import hashlib\n"
   ]
  },
  {
   "cell_type": "code",
   "execution_count": 31,
   "metadata": {},
   "outputs": [
    {
     "ename": "TypeError",
     "evalue": "object supporting the buffer API required",
     "output_type": "error",
     "traceback": [
      "\u001b[0;31m---------------------------------------------------------------------------\u001b[0m",
      "\u001b[0;31mTypeError\u001b[0m                                 Traceback (most recent call last)",
      "\u001b[0;32m<ipython-input-31-35cef288e78b>\u001b[0m in \u001b[0;36m<module>\u001b[0;34m\u001b[0m\n\u001b[1;32m      1\u001b[0m \u001b[0mh\u001b[0m \u001b[0;34m=\u001b[0m \u001b[0mhashlib\u001b[0m\u001b[0;34m.\u001b[0m\u001b[0mblake2b\u001b[0m\u001b[0;34m(\u001b[0m\u001b[0;34m)\u001b[0m\u001b[0;34m\u001b[0m\u001b[0;34m\u001b[0m\u001b[0m\n\u001b[0;32m----> 2\u001b[0;31m \u001b[0mh\u001b[0m\u001b[0;34m.\u001b[0m\u001b[0mupdate\u001b[0m\u001b[0;34m(\u001b[0m\u001b[0mg\u001b[0m\u001b[0;34m.\u001b[0m\u001b[0mgraph_feature_matrix\u001b[0m\u001b[0;34m)\u001b[0m\u001b[0;34m\u001b[0m\u001b[0;34m\u001b[0m\u001b[0m\n\u001b[0m\u001b[1;32m      3\u001b[0m \u001b[0mh\u001b[0m\u001b[0;34m.\u001b[0m\u001b[0mhexdigest\u001b[0m\u001b[0;34m(\u001b[0m\u001b[0;34m)\u001b[0m\u001b[0;34m\u001b[0m\u001b[0;34m\u001b[0m\u001b[0m\n",
      "\u001b[0;31mTypeError\u001b[0m: object supporting the buffer API required"
     ]
    }
   ],
   "source": [
    "h = hashlib.blake2b()\n",
    "h.update(g.graph_feature_matrix)\n",
    "h.hexdigest()\n"
   ]
  },
  {
   "cell_type": "code",
   "execution_count": 37,
   "metadata": {},
   "outputs": [],
   "source": [
    "hashvalue = pd.util.hash_pandas_object(g.graph_feature_matrix).sum()"
   ]
  },
  {
   "cell_type": "code",
   "execution_count": 40,
   "metadata": {},
   "outputs": [
    {
     "data": {
      "text/plain": [
       "-8886006431336352712"
      ]
     },
     "execution_count": 40,
     "metadata": {},
     "output_type": "execute_result"
    }
   ],
   "source": [
    "pd.util.hash_pandas_object(g.graph_feature_matrix).sum()"
   ]
  },
  {
   "cell_type": "code",
   "execution_count": 52,
   "metadata": {},
   "outputs": [
    {
     "data": {
      "text/plain": [
       "-505139337749376602"
      ]
     },
     "execution_count": 52,
     "metadata": {},
     "output_type": "execute_result"
    }
   ],
   "source": [
    "pd.util.hash_pandas_object(g.graph_feature_matrix).sum()"
   ]
  },
  {
   "cell_type": "code",
   "execution_count": null,
   "metadata": {},
   "outputs": [],
   "source": []
  }
 ],
 "metadata": {
  "kernelspec": {
   "display_name": "Python (hcga-fork)",
   "language": "python",
   "name": "hcga-fork-env"
  },
  "language_info": {
   "codemirror_mode": {
    "name": "ipython",
    "version": 3
   },
   "file_extension": ".py",
   "mimetype": "text/x-python",
   "name": "python",
   "nbconvert_exporter": "python",
   "pygments_lexer": "ipython3",
   "version": "3.7.5"
  }
 },
 "nbformat": 4,
 "nbformat_minor": 4
}
